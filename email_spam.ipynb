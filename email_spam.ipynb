{
 "cells": [
  {
   "cell_type": "markdown",
   "metadata": {},
   "source": [
    "# Spam Email Classifier Project\n",
    "\n",
    "## Project Description\n",
    "This project details the various steps that I took to build my own spam email classifier that is able to classify an email as spam or non-spam(ham) via a set of its features. \n",
    "\n",
    "I obtained the dataset for this project through Kaggle: https://www.kaggle.com/datasets/nitishabharathi/email-spam-dataset?resource=download. In particular, I have used the 'completeSpamAssassin.csv' dataset for this project. It simply includes a serial number column that can be used as the index, a body column that contains the actual text content of each email, and the label column that is 0 for ham emails and 1 for spam emails.\n",
    "\n",
    "From the dataset, it is straightforward that we may use a vectorizer (count/TD-IDF) to extract features from the email body column. However, for this project, I have implemented some feature engineering to attempt at producing more features (in addition to the ones extracted from a TF-IDF vectorizer) that can enhance the performance of the spam email classifier. I have also implemented several different Machine Learning algorithms to identify the best one.\n",
    "\n",
    "Topics covered in this project are:\n",
    "- Supervised Machine Learning\n",
    "- Binary Classification\n",
    "- Natural Language Processing\n",
    "- Data Visualisation\n",
    "- Data Manipulation & Analysis\n",
    "- Feature Engineering\n",
    "- Model Evaluation"
   ]
  },
  {
   "cell_type": "markdown",
   "metadata": {},
   "source": [
    "# Importing Core Packages"
   ]
  },
  {
   "cell_type": "code",
   "execution_count": 1,
   "metadata": {},
   "outputs": [],
   "source": [
    "import numpy as np\n",
    "import pandas as pd\n",
    "import matplotlib.pyplot as plt\n",
    "import nltk"
   ]
  },
  {
   "cell_type": "markdown",
   "metadata": {},
   "source": [
    "# Reading in Data"
   ]
  },
  {
   "cell_type": "code",
   "execution_count": 2,
   "metadata": {},
   "outputs": [
    {
     "data": {
      "text/html": [
       "<div>\n",
       "<style scoped>\n",
       "    .dataframe tbody tr th:only-of-type {\n",
       "        vertical-align: middle;\n",
       "    }\n",
       "\n",
       "    .dataframe tbody tr th {\n",
       "        vertical-align: top;\n",
       "    }\n",
       "\n",
       "    .dataframe thead th {\n",
       "        text-align: right;\n",
       "    }\n",
       "</style>\n",
       "<table border=\"1\" class=\"dataframe\">\n",
       "  <thead>\n",
       "    <tr style=\"text-align: right;\">\n",
       "      <th></th>\n",
       "      <th>Body</th>\n",
       "      <th>Label</th>\n",
       "    </tr>\n",
       "    <tr>\n",
       "      <th>Index</th>\n",
       "      <th></th>\n",
       "      <th></th>\n",
       "    </tr>\n",
       "  </thead>\n",
       "  <tbody>\n",
       "    <tr>\n",
       "      <th>0</th>\n",
       "      <td>\\nSave up to 70% on Life Insurance.\\nWhy Spend...</td>\n",
       "      <td>1</td>\n",
       "    </tr>\n",
       "    <tr>\n",
       "      <th>1</th>\n",
       "      <td>1) Fight The Risk of Cancer!\\nhttp://www.adcli...</td>\n",
       "      <td>1</td>\n",
       "    </tr>\n",
       "    <tr>\n",
       "      <th>2</th>\n",
       "      <td>1) Fight The Risk of Cancer!\\nhttp://www.adcli...</td>\n",
       "      <td>1</td>\n",
       "    </tr>\n",
       "    <tr>\n",
       "      <th>3</th>\n",
       "      <td>##############################################...</td>\n",
       "      <td>1</td>\n",
       "    </tr>\n",
       "    <tr>\n",
       "      <th>4</th>\n",
       "      <td>I thought you might like these:\\n1) Slim Down ...</td>\n",
       "      <td>1</td>\n",
       "    </tr>\n",
       "    <tr>\n",
       "      <th>...</th>\n",
       "      <td>...</td>\n",
       "      <td>...</td>\n",
       "    </tr>\n",
       "    <tr>\n",
       "      <th>6041</th>\n",
       "      <td>empty</td>\n",
       "      <td>0</td>\n",
       "    </tr>\n",
       "    <tr>\n",
       "      <th>6042</th>\n",
       "      <td>___           ___           ...</td>\n",
       "      <td>0</td>\n",
       "    </tr>\n",
       "    <tr>\n",
       "      <th>6043</th>\n",
       "      <td>IN THIS ISSUE:01. Readers write\\n02. Extension...</td>\n",
       "      <td>0</td>\n",
       "    </tr>\n",
       "    <tr>\n",
       "      <th>6044</th>\n",
       "      <td>empty</td>\n",
       "      <td>0</td>\n",
       "    </tr>\n",
       "    <tr>\n",
       "      <th>6045</th>\n",
       "      <td>empty</td>\n",
       "      <td>0</td>\n",
       "    </tr>\n",
       "  </tbody>\n",
       "</table>\n",
       "<p>6045 rows × 2 columns</p>\n",
       "</div>"
      ],
      "text/plain": [
       "                                                    Body  Label\n",
       "Index                                                          \n",
       "0      \\nSave up to 70% on Life Insurance.\\nWhy Spend...      1\n",
       "1      1) Fight The Risk of Cancer!\\nhttp://www.adcli...      1\n",
       "2      1) Fight The Risk of Cancer!\\nhttp://www.adcli...      1\n",
       "3      ##############################################...      1\n",
       "4      I thought you might like these:\\n1) Slim Down ...      1\n",
       "...                                                  ...    ...\n",
       "6041                                               empty      0\n",
       "6042                     ___           ___           ...      0\n",
       "6043   IN THIS ISSUE:01. Readers write\\n02. Extension...      0\n",
       "6044                                               empty      0\n",
       "6045                                               empty      0\n",
       "\n",
       "[6045 rows x 2 columns]"
      ]
     },
     "execution_count": 2,
     "metadata": {},
     "output_type": "execute_result"
    }
   ],
   "source": [
    "emails = pd.read_csv('completeSpamAssassin.csv')\n",
    "emails = emails.rename(columns={'Unnamed: 0':'Index'})\n",
    "emails = emails.set_index('Index')\n",
    "\n",
    "#emails[emails['Body'].isna()] \n",
    "#Only the row of index 328 has NaN value, removing the row should not significantly change the class distribution\n",
    "emails = emails.dropna()\n",
    "emails"
   ]
  },
  {
   "cell_type": "markdown",
   "metadata": {},
   "source": [
    "# Text Preprocessing"
   ]
  },
  {
   "cell_type": "code",
   "execution_count": 3,
   "metadata": {},
   "outputs": [],
   "source": [
    "from nltk import word_tokenize\n",
    "from nltk.stem import WordNetLemmatizer\n",
    "from nltk.corpus import stopwords\n",
    "stopwords = stopwords.words('english')\n",
    "lemmatizer = WordNetLemmatizer()\n",
    "\n",
    "def token_lemma(text, lemmatizer=lemmatizer, stopwords=stopwords):\n",
    "    word_tokens = nltk.word_tokenize(text)\n",
    "    new_text = ' '.join([lemmatizer.lemmatize(w) for w in word_tokens if w not in set(stopwords)])\n",
    "    return new_text\n",
    "\n",
    "lemmatized = emails['Body'].apply(lambda x: token_lemma(x))\n",
    "emails1 = emails.copy()\n",
    "emails1['Body'] = lemmatized"
   ]
  },
  {
   "cell_type": "markdown",
   "metadata": {},
   "source": [
    "# TF-IDF Vectorization w/o Feature Engineering"
   ]
  },
  {
   "cell_type": "code",
   "execution_count": 4,
   "metadata": {},
   "outputs": [],
   "source": [
    "from sklearn.model_selection import train_test_split\n",
    "from sklearn.feature_extraction.text import TfidfVectorizer\n",
    "\n",
    "X = emails1[['Body']]\n",
    "y = emails1['Label']\n",
    "X_train, X_test, y_train, y_test = train_test_split(X, y, random_state=0)\n",
    "\n",
    "vectorizer = TfidfVectorizer()\n",
    "X_train_vec = vectorizer.fit_transform(X_train['Body'])\n",
    "X_test_vec = vectorizer.transform(X_test['Body'])"
   ]
  },
  {
   "cell_type": "markdown",
   "metadata": {},
   "source": [
    "# Multinomial Naive Bayes Classification"
   ]
  },
  {
   "cell_type": "code",
   "execution_count": 5,
   "metadata": {},
   "outputs": [
    {
     "name": "stdout",
     "output_type": "stream",
     "text": [
      "MNB accuracy for training set: 0.8960953011250827\n",
      "MNB accuracy for test set: 0.8829365079365079\n",
      "MNB AUC score for training set: 0.9882911545255229\n",
      "MNB AUC score for test set: 0.9831897899899217\n"
     ]
    }
   ],
   "source": [
    "from sklearn.naive_bayes import MultinomialNB\n",
    "from sklearn.metrics import roc_auc_score\n",
    "\n",
    "mnb_clf = MultinomialNB().fit(X_train_vec, y_train)\n",
    "acc_train = mnb_clf.score(X_train_vec, y_train)\n",
    "acc_test = mnb_clf.score(X_test_vec, y_test)\n",
    "auc_train = roc_auc_score(y_train, mnb_clf.predict_proba(X_train_vec)[:, 1])\n",
    "auc_test = roc_auc_score(y_test, mnb_clf.predict_proba(X_test_vec)[:, 1])\n",
    "\n",
    "print('MNB accuracy for training set: {}'.format(acc_train))\n",
    "print('MNB accuracy for test set: {}'.format(acc_test))\n",
    "print('MNB AUC score for training set: {}'.format(auc_train))\n",
    "print('MNB AUC score for test set: {}'.format(auc_test))"
   ]
  },
  {
   "cell_type": "markdown",
   "metadata": {},
   "source": [
    "# Logistic Regression"
   ]
  },
  {
   "cell_type": "code",
   "execution_count": 6,
   "metadata": {},
   "outputs": [
    {
     "name": "stdout",
     "output_type": "stream",
     "text": [
      "Logreg accuracy for training set: 0.9534524597396867\n",
      "Logreg accuracy for test set: 0.9464285714285714\n",
      "Logreg AUC score for training set: 0.9895824070065737\n",
      "Logreg AUC score for test set: 0.9889403823234193\n"
     ]
    }
   ],
   "source": [
    "from sklearn.linear_model import LogisticRegression\n",
    "\n",
    "logreg = LogisticRegression().fit(X_train_vec, y_train)\n",
    "acc_train1 = logreg.score(X_train_vec, y_train)\n",
    "acc_test1 = logreg.score(X_test_vec, y_test)\n",
    "auc_train1 = roc_auc_score(y_train, logreg.predict_proba(X_train_vec)[:, 1])\n",
    "auc_test1 = roc_auc_score(y_test, logreg.predict_proba(X_test_vec)[:, 1])\n",
    "\n",
    "print('Logreg accuracy for training set: {}'.format(acc_train1))\n",
    "print('Logreg accuracy for test set: {}'.format(acc_test1))\n",
    "print('Logreg AUC score for training set: {}'.format(auc_train1))\n",
    "print('Logreg AUC score for test set: {}'.format(auc_test1))"
   ]
  },
  {
   "cell_type": "markdown",
   "metadata": {},
   "source": [
    "# Support Vector Machine"
   ]
  },
  {
   "cell_type": "code",
   "execution_count": 7,
   "metadata": {},
   "outputs": [
    {
     "name": "stdout",
     "output_type": "stream",
     "text": [
      "SVM accuracy for training set: 0.9671299360247076\n",
      "SVM accuracy for test set: 0.9556878306878307\n",
      "SVM AUC score for training set: 0.9863541629519553\n",
      "SVM AUC score for test set: 0.9769649220000532\n"
     ]
    }
   ],
   "source": [
    "from sklearn.svm import SVC\n",
    "\n",
    "svc = SVC().fit(X_train_vec, y_train)\n",
    "acc_train2 = svc.score(X_train_vec, y_train)\n",
    "acc_test2 = svc.score(X_test_vec, y_test)\n",
    "auc_train2 = roc_auc_score(y_train, svc.decision_function(X_train_vec))\n",
    "auc_test2 = roc_auc_score(y_test, svc.decision_function(X_test_vec))\n",
    "\n",
    "print('SVM accuracy for training set: {}'.format(acc_train2))\n",
    "print('SVM accuracy for test set: {}'.format(acc_test2))\n",
    "print('SVM AUC score for training set: {}'.format(auc_train2))\n",
    "print('SVM AUC score for test set: {}'.format(auc_test2))"
   ]
  },
  {
   "cell_type": "markdown",
   "metadata": {},
   "source": [
    "# Feature Engineering"
   ]
  },
  {
   "cell_type": "code",
   "execution_count": 8,
   "metadata": {},
   "outputs": [],
   "source": [
    "import re\n",
    "\n",
    "#remove all the line breaks (\\n)\n",
    "body_dropped = emails['Body'].apply(lambda x: re.sub('\\n', ' ', x))\n",
    "\n",
    "#create a feature for the number of words ([a-zA-Z]+) in each email's body\n",
    "num_words = body_dropped.apply(lambda x: len(re.findall('[a-zA-Z]+', x)))\n",
    "emails1['WordCount'] = num_words\n",
    "\n",
    "#create a feature for the number of digits (\\d+) in each email's body\n",
    "num_digits = body_dropped.apply(lambda x: len(re.findall('\\d+', x)))\n",
    "emails1['NumCount'] = num_digits\n",
    "\n",
    "#create a feature for the number of symbols ([^a-zA-Z0-9]) in each email's body\n",
    "num_symbols = body_dropped.apply(lambda x: len(re.findall('[^a-zA-Z0-9\\s]', x)))\n",
    "emails1['SymCount'] = num_symbols"
   ]
  },
  {
   "cell_type": "markdown",
   "metadata": {},
   "source": [
    "# Data Visualisation of New Features"
   ]
  },
  {
   "cell_type": "code",
   "execution_count": 9,
   "metadata": {},
   "outputs": [
    {
     "data": {
      "image/png": "[encoded data removed]",
      "text/plain": [
       "<Figure size 1152x1152 with 3 Axes>"
      ]
     },
     "metadata": {
      "needs_background": "light"
     },
     "output_type": "display_data"
    }
   ],
   "source": [
    "spams = emails1[emails1['Label'] == 1]\n",
    "hams = emails1[emails1['Label'] == 0]\n",
    "\n",
    "#scatterplots for spam and non-spam emails\n",
    "fig, (ax1, ax2, ax3) = plt.subplots(3, 1, figsize=(16, 16))\n",
    "ax1.scatter(spams['WordCount'], spams['NumCount'], c='red', alpha=0.5, label='Spam')\n",
    "ax1.scatter(hams['WordCount'], hams['NumCount'], c='blue', alpha=0.5, label='Ham')\n",
    "ax1.legend()\n",
    "ax1.set_xlabel('Word Count')\n",
    "ax1.set_ylabel('Number Count')\n",
    "\n",
    "ax2.scatter(spams['WordCount'], spams['SymCount'], c='red', alpha=0.5, label='Spam')\n",
    "ax2.scatter(hams['WordCount'], hams['SymCount'], c='blue', alpha=0.5, label='Ham')\n",
    "ax2.legend()\n",
    "ax2.set_xlabel('Word Count')\n",
    "ax2.set_ylabel('Symbol Count')\n",
    "\n",
    "ax3.scatter(spams['NumCount'], spams['SymCount'], c='red', alpha=0.5, label='Spam')\n",
    "ax3.scatter(hams['NumCount'], hams['SymCount'], c='blue', alpha=0.5, label='Ham')\n",
    "ax3.legend()\n",
    "ax3.set_xlabel('Number Count')\n",
    "ax3.set_ylabel('Symbol Count')\n",
    "\n",
    "plt.show()"
   ]
  },
  {
   "cell_type": "markdown",
   "metadata": {},
   "source": [
    "# TF-IDF Vectorization w/ Feature Engineering"
   ]
  },
  {
   "cell_type": "code",
   "execution_count": 10,
   "metadata": {},
   "outputs": [],
   "source": [
    "X_new = emails1[['Body', 'WordCount', 'NumCount', 'SymCount']]\n",
    "y_new = emails1['Label']\n",
    "X_train1, X_test1, y_train1, y_test1 = train_test_split(X_new, y_new, random_state=0)\n",
    "\n",
    "vectorizer = TfidfVectorizer()\n",
    "X_train1_vec = vectorizer.fit_transform(X_train1['Body'])\n",
    "X_train1_all = np.hstack((X_train1_vec.toarray(), X_train1[['WordCount', 'NumCount', 'SymCount']]))\n",
    "X_test1_vec = vectorizer.transform(X_test1['Body'])\n",
    "X_test1_all = np.hstack((X_test1_vec.toarray(), X_test1[['WordCount', 'NumCount', 'SymCount']]))"
   ]
  },
  {
   "cell_type": "markdown",
   "metadata": {},
   "source": [
    "# Multinomial Naive Bayes Classification w/ Feature Engineering"
   ]
  },
  {
   "cell_type": "code",
   "execution_count": 11,
   "metadata": {},
   "outputs": [
    {
     "name": "stdout",
     "output_type": "stream",
     "text": [
      "MNB accuracy for training set: 0.7193911317008603\n",
      "MNB accuracy for test set: 0.7076719576719577\n",
      "MNB AUC score for training set: 0.6738158779140077\n",
      "MNB AUC score for test set: 0.6599249336116295\n"
     ]
    }
   ],
   "source": [
    "mnb_clf1 = MultinomialNB().fit(X_train1_all, y_train1)\n",
    "acc_trainfe = mnb_clf1.score(X_train1_all, y_train1)\n",
    "acc_testfe = mnb_clf1.score(X_test1_all, y_test1)\n",
    "auc_trainfe = roc_auc_score(y_train1, mnb_clf1.predict_proba(X_train1_all)[:, 1])\n",
    "auc_testfe = roc_auc_score(y_test1, mnb_clf1.predict_proba(X_test1_all)[:, 1])\n",
    "\n",
    "print('MNB accuracy for training set: {}'.format(acc_trainfe))\n",
    "print('MNB accuracy for test set: {}'.format(acc_testfe))\n",
    "print('MNB AUC score for training set: {}'.format(auc_trainfe))\n",
    "print('MNB AUC score for test set: {}'.format(auc_testfe))"
   ]
  },
  {
   "cell_type": "markdown",
   "metadata": {},
   "source": [
    "# Logistic Regression w/ Feature Engineering"
   ]
  },
  {
   "cell_type": "code",
   "execution_count": 12,
   "metadata": {},
   "outputs": [
    {
     "name": "stdout",
     "output_type": "stream",
     "text": [
      "Logreg accuracy for training set: 0.9521288330024267\n",
      "Logreg accuracy for test set: 0.9444444444444444\n",
      "Logreg AUC score for training set: 0.9893172048277179\n",
      "Logreg AUC score for test set: 0.9862378287987538\n"
     ]
    }
   ],
   "source": [
    "logreg1 = LogisticRegression(max_iter=1000).fit(X_train1_all, y_train1)\n",
    "acc_train1fe = logreg1.score(X_train1_all, y_train1)\n",
    "acc_test1fe = logreg1.score(X_test1_all, y_test1)\n",
    "auc_train1fe = roc_auc_score(y_train1, logreg1.predict_proba(X_train1_all)[:, 1])\n",
    "auc_test1fe = roc_auc_score(y_test1, logreg1.predict_proba(X_test1_all)[:, 1])\n",
    "\n",
    "print('Logreg accuracy for training set: {}'.format(acc_train1fe))\n",
    "print('Logreg accuracy for test set: {}'.format(acc_test1fe))\n",
    "print('Logreg AUC score for training set: {}'.format(auc_train1fe))\n",
    "print('Logreg AUC score for test set: {}'.format(auc_test1fe))"
   ]
  },
  {
   "cell_type": "markdown",
   "metadata": {},
   "source": [
    "# Support Vector Machine w/ Feature Engineering"
   ]
  },
  {
   "cell_type": "code",
   "execution_count": null,
   "metadata": {},
   "outputs": [
    {
     "name": "stderr",
     "output_type": "stream",
     "text": [
      "/Library/Frameworks/Python.framework/Versions/3.9/lib/python3.9/site-packages/sklearn/svm/_base.py:299: ConvergenceWarning: Solver terminated early (max_iter=1000).  Consider pre-processing your data with StandardScaler or MinMaxScaler.\n",
      "  warnings.warn(\n"
     ]
    }
   ],
   "source": [
    "'''\n",
    "svc1 = SVC().fit(X_train1_all, y_train1)\n",
    "acc_train2fe = svc1.score(X_train1_all, y_train1)\n",
    "acc_test2fe = svc1.score(X_test1_all, y_test1)\n",
    "auc_train2fe = roc_auc_score(y_train1, svc1.decision_function(X_train1_all))\n",
    "auc_test2fe = roc_auc_score(y_test1, svc1.decision_function(X_test1_all))\n",
    "\n",
    "print('SVM accuracy for training set: {}'.format(acc_train2fe))\n",
    "print('SVM accuracy for test set: {}'.format(acc_test2fe))\n",
    "print('SVM AUC score for training set: {}'.format(auc_train2fe))\n",
    "print('SVM AUC score for test set: {}'.format(auc_test2fe))\n",
    "'''\n",
    "#The model takes too long to run "
   ]
  },
  {
   "cell_type": "markdown",
   "metadata": {},
   "source": [
    "# Project Conclusion\n",
    "From the model evaluation results, I can observe that in general, the logistic regression model has the best performance with and without feature engineering. It has the highest Area Under Curve (AUC) scores for the training and test sets, and also high accuracy scores. Roughly 0.98 for the AUC scores and 0.94 for the accuracy scores, which I would consider as good model performance.\n",
    "\n",
    "One thing to notice is that the accuracy and AUC scores for the multinomial Naive Bayes model dropped rather significantly after feature engineering. From the scatterplots of the new features, I can observe that spam and ham emails typically overlap with one another in terms of the newly added 3 features, which may account for why the Naive Bayes model dipped in performance.\n",
    "\n",
    "Hence, one key takeaway from this project is that the addition of new features via feature engineering may not always enhance the performance of a machine learning model. During the process of feature engineering, it is important to test whether new features actually improve the performance of our model through model evaluation, and things such as data visualisation can help us further investigate the usefulness of any new features. "
   ]
  }
 ],
 "metadata": {
  "kernelspec": {
   "display_name": "Python 3 (ipykernel)",
   "language": "python",
   "name": "python3"
  },
  "language_info": {
   "codemirror_mode": {
    "name": "ipython",
    "version": 3
   },
   "file_extension": ".py",
   "mimetype": "text/x-python",
   "name": "python",
   "nbconvert_exporter": "python",
   "pygments_lexer": "ipython3",
   "version": "3.9.6"
  },
  "vscode": {
   "interpreter": {
    "hash": "aee8b7b246df8f9039afb4144a1f6fd8d2ca17a180786b69acc140d282b71a49"
   }
  }
 },
 "nbformat": 4,
 "nbformat_minor": 2
}
